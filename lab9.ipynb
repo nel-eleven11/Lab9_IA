{
  "nbformat": 4,
  "nbformat_minor": 0,
  "metadata": {
    "colab": {
      "provenance": [],
      "authorship_tag": "ABX9TyNXrvrIPOqOWSvNrPfohgY6",
      "include_colab_link": true
    },
    "kernelspec": {
      "name": "python3",
      "display_name": "Python 3"
    },
    "language_info": {
      "name": "python"
    }
  },
  "cells": [
    {
      "cell_type": "markdown",
      "metadata": {
        "id": "view-in-github",
        "colab_type": "text"
      },
      "source": [
        "<a href=\"https://colab.research.google.com/github/nel-eleven11/Lab9_IA/blob/main/lab9.ipynb\" target=\"_parent\"><img src=\"https://colab.research.google.com/assets/colab-badge.svg\" alt=\"Open In Colab\"/></a>"
      ]
    },
    {
      "cell_type": "markdown",
      "source": [
        "#Laboratorio 9"
      ],
      "metadata": {
        "id": "7qJUuiplei9t"
      }
    },
    {
      "cell_type": "markdown",
      "source": [
        "## Task 1 - Teoría\n",
        "\n",
        "Responda las siguientes preguntas de forma clara y concisa, pueden subir un PDF bien dentro del mismo Jupyter Notebook.\n",
        "\n",
        "1. Diga cual es la diferencia entre Modelos de Markov y Hidden Markov Models\n",
        "2. Investigue qué son los factorial HMM (Hidden Markov Models)\n",
        "3. Especifique en sus propias palabras el algoritmo Forward Backward para HMM\n",
        "4. En el algoritmo de Forward Backward, por qué es necesario el paso de backward (puede escribir ejemploso casos para responder esta pregunta)"
      ],
      "metadata": {
        "id": "pqlNgDWqelG_"
      }
    },
    {
      "cell_type": "markdown",
      "source": [
        "## Task 2 - Algoritmo Forward Backward en HMM\n",
        "\n",
        "El algoritmo forward-backward se basa en una forma de programación dinámica.Para este task deberán investigar sobre el mismo. En este ejercicio estamos ante un modelo meteorológico representado por un Modelo Oculto de Markov (HMM) con dos estados: \"Soleado\" y \"Lluvioso\". Queremos predecir el tiempo en un día determinado basándonos en las observaciones de si el día anterior estuvo soleado o lluvioso. Para ello considere el siguiente código como una guía:\n",
        "\n",
        "Con esto, considere lo siguiente:\n",
        "1. Defina los parámetros del modelo oculto de Markov (HMM), incluidos estados, observaciones,\n",
        "probabilidades iniciales, probabilidades de transición y probabilidades de emisión.\n",
        "2. Cree una instancia de la clase HMM con los parámetros definidos.\n",
        "3. Genere una secuencia de observaciones utilizando el método generate_sequence. Este paso es opcional\n",
        "pero útil para realizar pruebas.\n",
        "4. Utilice el método forward para calcular las probabilidades directas, que representan la probabilidad de\n",
        "observar una secuencia particular de observaciones hasta un paso de tiempo específico y estar en un estado\n",
        "particular en ese paso de tiempo.\n",
        "5. Utilice el método backward para calcular las probabilidades hacia atrás, que representan la probabilidad de\n",
        "observar la secuencia restante desde un paso de tiempo específico hasta el final de la secuencia, dado que\n",
        "el sistema se encuentra en un estado particular en ese paso de tiempo.\n",
        "6. Utilice el método compute_state_probabilities para calcular las probabilidades de estar en cada\n",
        "estado en cada paso de tiempo dada la secuencia observada. Este paso implica combinar las probabilidades\n",
        "hacia adelante y hacia atrás.\n",
        "7. Imprima o analice las probabilidades calculadas según sea necesario."
      ],
      "metadata": {
        "id": "JhMkBy0Menva"
      }
    },
    {
      "cell_type": "code",
      "execution_count": null,
      "metadata": {
        "id": "-HSDbmCeec4A"
      },
      "outputs": [],
      "source": []
    }
  ]
}